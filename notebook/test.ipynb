{
 "cells": [
  {
   "cell_type": "code",
   "execution_count": 1,
   "id": "b2cc2919",
   "metadata": {},
   "outputs": [],
   "source": [
    "import spacy\n",
    "import pandas as pd\n",
    "import joblib\n",
    "import numpy as np\n",
    "from transformers import AutoTokenizer, AutoModel\n",
    "import torch\n",
    "from sklearn.preprocessing import normalize\n",
    "from sklearn.preprocessing import LabelEncoder,StandardScaler\n",
    "import re\n",
    "import pickle"
   ]
  },
  {
   "cell_type": "code",
   "execution_count": 2,
   "id": "3b193464",
   "metadata": {},
   "outputs": [],
   "source": [
    "from xgboost import XGBClassifier\n",
    "df_film = pd.read_csv('../data/data-film-final.csv')\n",
    "intent_model = XGBClassifier()\n",
    "intent_model.load_model('../models/intent_recognition_model.json')\n",
    "ner_model = spacy.load('../models/model_ner_NVEB')\n",
    "with open('../models/label_encoder.pkl', 'rb') as f:\n",
    "    label_encoder = pickle.load(f)\n",
    "with open('../models/scaler.pkl', 'rb') as f:\n",
    "     scaler = pickle.load(f)\n"
   ]
  },
  {
   "cell_type": "code",
   "execution_count": 3,
   "id": "0a722eaf",
   "metadata": {},
   "outputs": [],
   "source": [
    "tokenizer = AutoTokenizer.from_pretrained(\"VoVanPhuc/sup-SimCSE-VietNamese-phobert-base\")\n",
    "model = AutoModel.from_pretrained(\"VoVanPhuc/sup-SimCSE-VietNamese-phobert-base\")\n",
    "def get_embedding(text):\n",
    "     inputs = tokenizer(text, return_tensors=\"pt\", padding=True, truncation=True, max_length=256)\n",
    "     with torch.no_grad():\n",
    "          outputs = model(**inputs)\n",
    "          embedding = outputs.last_hidden_state[:, 0, :].cpu().numpy()\n",
    "     return normalize(embedding, norm=\"l2\")  # chuẩn hóa nếu muốn\n"
   ]
  },
  {
   "cell_type": "code",
   "execution_count": 6,
   "id": "db355879",
   "metadata": {},
   "outputs": [
    {
     "name": "stdout",
     "output_type": "stream",
     "text": [
      "goi_y_theo_nam\n"
     ]
    }
   ],
   "source": [
    "input = 'gợi ý phim hành động 2025 có rating cao'\n",
    "def predict_intent(text, model, tokenizer, scaler, intent_model, label_encoder):\n",
    "    text = re.sub(r\"[^a-zA-Z0-9À-ỹà-ỹ\\s]\", \"\", text.lower())\n",
    "    text = re.sub(r\"\\s+\", \" \", text).strip()\n",
    "\n",
    "    inputs = tokenizer(text, return_tensors=\"pt\", padding=True, truncation=True, max_length=256)\n",
    "\n",
    "    with torch.no_grad():\n",
    "        outputs = model(**inputs)\n",
    "        embedding = outputs.last_hidden_state[:, 0, :].cpu().numpy()\n",
    "        embedding = normalize(embedding, norm=\"l2\")\n",
    "\n",
    "    input_scaled = scaler.transform(embedding)\n",
    "    pred = intent_model.predict(input_scaled)[0]\n",
    "    intent_label = label_encoder.inverse_transform([pred])[0]\n",
    "\n",
    "    return intent_label\n",
    "\n",
    "print(predict_intent(input, model, tokenizer, scaler, intent_model, label_encoder))"
   ]
  },
  {
   "cell_type": "code",
   "execution_count": 16,
   "id": "97c8c48d",
   "metadata": {},
   "outputs": [
    {
     "name": "stdout",
     "output_type": "stream",
     "text": [
      "gợi ý phim hành động năm năm 2025 có rating cao\n",
      "Entity: hành động, Label: genre\n",
      "Entity: 2025, Label: year\n",
      "Entity: cao, Label: rating_level\n"
     ]
    },
    {
     "data": {
      "text/plain": [
       "3"
      ]
     },
     "execution_count": 16,
     "metadata": {},
     "output_type": "execute_result"
    }
   ],
   "source": [
    "def add_year_prefix(text):\n",
    "    # Tìm tất cả các số có 4 chữ số (có thể là năm)\n",
    "    text = text.strip().lower()\n",
    "    text = re.sub(r'(\\b\\d{4}\\b)', r'năm năm \\1', text)\n",
    "    return text\n",
    "input2 = 'gợi ý phim hành động 2025 có rating cao'\n",
    "\n",
    "input2 = add_year_prefix(input2)\n",
    "print(input2)\n",
    "doc = ner_model(input2)\n",
    "for ent in doc.ents:\n",
    "    print(f\"Entity: {ent.text}, Label: {ent.label_}\")\n",
    "len(doc.ents)"
   ]
  },
  {
   "cell_type": "code",
   "execution_count": null,
   "id": "cc142ead",
   "metadata": {},
   "outputs": [],
   "source": []
  }
 ],
 "metadata": {
  "kernelspec": {
   "display_name": "Python 3",
   "language": "python",
   "name": "python3"
  },
  "language_info": {
   "codemirror_mode": {
    "name": "ipython",
    "version": 3
   },
   "file_extension": ".py",
   "mimetype": "text/x-python",
   "name": "python",
   "nbconvert_exporter": "python",
   "pygments_lexer": "ipython3",
   "version": "3.10.11"
  }
 },
 "nbformat": 4,
 "nbformat_minor": 5
}
